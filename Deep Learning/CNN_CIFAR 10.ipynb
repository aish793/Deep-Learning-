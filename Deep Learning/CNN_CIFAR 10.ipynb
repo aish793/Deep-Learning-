{
  "nbformat": 4,
  "nbformat_minor": 0,
  "metadata": {
    "colab": {
      "name": "IDLAssignment3.ipynb",
      "provenance": [],
      "toc_visible": true,
      "include_colab_link": true
    },
    "kernelspec": {
      "name": "python3",
      "display_name": "Python 3"
    },
    "accelerator": "GPU"
  },
  "cells": [
    {
      "cell_type": "markdown",
      "metadata": {
        "id": "view-in-github",
        "colab_type": "text"
      },
      "source": [
        "<a href=\"https://colab.research.google.com/github/aish793/Sandbox/blob/master/Deep%20Learning/CNN_CIFAR%2010.ipynb\" target=\"_parent\"><img src=\"https://colab.research.google.com/assets/colab-badge.svg\" alt=\"Open In Colab\"/></a>"
      ]
    },
    {
      "cell_type": "markdown",
      "metadata": {
        "id": "2wtSADyaQ3SF",
        "colab_type": "text"
      },
      "source": [
        "# **IDL Assignment 2 - Keras and CNNs**"
      ]
    },
    {
      "cell_type": "markdown",
      "metadata": {
        "id": "mfMrlv-fRJYu",
        "colab_type": "text"
      },
      "source": [
        "### Team Members\n",
        "\n",
        "\n",
        "1.   Amar Shivaram - 226015\n",
        "2.   Manish Bhandari - 226011\n",
        "3.   Aishwarya Jauhari - 226084\n",
        "\n",
        "\n",
        "\n",
        "\n"
      ]
    },
    {
      "cell_type": "markdown",
      "metadata": {
        "id": "b3fVxBd5HocV",
        "colab_type": "text"
      },
      "source": [
        "## **Assigning Tensorflow version and importing the libraries required for the tasks**\n"
      ]
    },
    {
      "cell_type": "code",
      "metadata": {
        "id": "3g1v3YHPFgiV",
        "colab_type": "code",
        "outputId": "83b80040-7663-4091-e340-607e1978032f",
        "colab": {
          "base_uri": "https://localhost:8080/",
          "height": 70
        }
      },
      "source": [
        "%tensorflow_version 2.x\n",
        "\n",
        "import tensorflow as tf\n",
        "import numpy as np\n",
        "import matplotlib.pyplot as plt\n",
        "import pandas as pd\n",
        "import seaborn as sns\n",
        "import os"
      ],
      "execution_count": 0,
      "outputs": [
        {
          "output_type": "stream",
          "text": [
            "/usr/local/lib/python3.6/dist-packages/statsmodels/tools/_testing.py:19: FutureWarning: pandas.util.testing is deprecated. Use the functions in the public API at pandas.testing instead.\n",
            "  import pandas.util.testing as tm\n"
          ],
          "name": "stderr"
        }
      ]
    },
    {
      "cell_type": "code",
      "metadata": {
        "id": "ZqgaqJz2HoAM",
        "colab_type": "code",
        "outputId": "059511e7-2445-4e7a-a032-91ff081d03e2",
        "colab": {
          "base_uri": "https://localhost:8080/",
          "height": 34
        }
      },
      "source": [
        "tf.__version__"
      ],
      "execution_count": 0,
      "outputs": [
        {
          "output_type": "execute_result",
          "data": {
            "text/plain": [
              "'2.2.0-rc4'"
            ]
          },
          "metadata": {
            "tags": []
          },
          "execution_count": 2
        }
      ]
    },
    {
      "cell_type": "markdown",
      "metadata": {
        "id": "gfXS6CZD62lU",
        "colab_type": "text"
      },
      "source": [
        "## **Load CIFAR10 dataset**"
      ]
    },
    {
      "cell_type": "code",
      "metadata": {
        "id": "18HxS0Sq4dJp",
        "colab_type": "code",
        "outputId": "742c6a77-1be3-4263-80f8-15fff74f8782",
        "colab": {
          "base_uri": "https://localhost:8080/",
          "height": 50
        }
      },
      "source": [
        "(train_images, train_labels), (test_images, test_labels) = tf.keras.datasets.cifar10.load_data()\n"
      ],
      "execution_count": 0,
      "outputs": [
        {
          "output_type": "stream",
          "text": [
            "Downloading data from https://www.cs.toronto.edu/~kriz/cifar-10-python.tar.gz\n",
            "170500096/170498071 [==============================] - 4s 0us/step\n"
          ],
          "name": "stdout"
        }
      ]
    },
    {
      "cell_type": "code",
      "metadata": {
        "id": "M4JoElkz7v0b",
        "colab_type": "code",
        "outputId": "dd0a0a21-6a82-4173-c176-605531079b39",
        "colab": {
          "base_uri": "https://localhost:8080/",
          "height": 283
        }
      },
      "source": [
        "plt.imshow(train_images[7], cmap=plt.cm.binary)\n"
      ],
      "execution_count": 0,
      "outputs": [
        {
          "output_type": "execute_result",
          "data": {
            "text/plain": [
              "<matplotlib.image.AxesImage at 0x7f7d5b475240>"
            ]
          },
          "metadata": {
            "tags": []
          },
          "execution_count": 4
        },
        {
          "output_type": "display_data",
          "data": {
            "image/png": "[encoded data removed]",
            "text/plain": [
              "<Figure size 432x288 with 1 Axes>"
            ]
          },
          "metadata": {
            "tags": [],
            "needs_background": "light"
          }
        }
      ]
    },
    {
      "cell_type": "code",
      "metadata": {
        "id": "8XhZxPPz7VVo",
        "colab_type": "code",
        "colab": {}
      },
      "source": [
        "\n",
        "# this is now different\n",
        "train_data = tf.data.Dataset.from_tensor_slices((train_images, train_labels))\n",
        "\n",
        "test_data = tf.data.Dataset.from_tensor_slices((test_images, test_labels))\n",
        "\n",
        "\n",
        "# things we really gotta do:\n",
        "# - normalize the images to [0, 1] (first convert to float)\n",
        "# - reshape images from (28, 28) to (784,) (although we could do this later!)\n",
        "# - convert labels to int32 (otherwise tensorflow is gonna be sad :( )\n",
        "\n",
        "#train_images = (train_images.astype(np.float32) / 255.).reshape((-1, 784))\n",
        "#test_images = (test_images.astype(np.float32) / 255.).reshape((-1, 784))\n",
        "train_images = (train_images.astype(np.float32) / 255.)\n",
        "test_images = (test_images.astype(np.float32) / 255.)\n",
        "\n",
        "train_labels = train_labels.astype(np.int32).reshape((-1,))\n",
        "test_labels = test_labels.astype(np.int32).reshape((-1,))\n",
        "\n",
        "train_data = tf.data.Dataset.from_tensor_slices((train_images, train_labels))\n",
        "\n",
        "test_data = tf.data.Dataset.from_tensor_slices((test_images, test_labels))\n",
        "\n",
        "    \n"
      ],
      "execution_count": 0,
      "outputs": []
    },
    {
      "cell_type": "code",
      "metadata": {
        "id": "8v6ZsAtg8i6N",
        "colab_type": "code",
        "outputId": "71265867-3f28-4fd7-9a4e-5e8adec44b55",
        "colab": {
          "base_uri": "https://localhost:8080/",
          "height": 34
        }
      },
      "source": [
        "train_data"
      ],
      "execution_count": 0,
      "outputs": [
        {
          "output_type": "execute_result",
          "data": {
            "text/plain": [
              "<TensorSliceDataset shapes: ((32, 32, 3), ()), types: (tf.float32, tf.int32)>"
            ]
          },
          "metadata": {
            "tags": []
          },
          "execution_count": 6
        }
      ]
    },
    {
      "cell_type": "code",
      "metadata": {
        "id": "rFRLy9TYEeKQ",
        "colab_type": "code",
        "colab": {}
      },
      "source": [
        "## Declare the sizes of batch, shuffle and repeat\n",
        "\n",
        "SHUFFLE_SIZE = 10000\n",
        "BATCH_SIZE = 128\n",
        "REPEAT_TIMES = 3"
      ],
      "execution_count": 0,
      "outputs": []
    },
    {
      "cell_type": "code",
      "metadata": {
        "id": "H5JAavDtD_cu",
        "colab_type": "code",
        "colab": {}
      },
      "source": [
        "def batch_shuffle_repeat(data):\n",
        "\n",
        "\n",
        "    data = data.shuffle(SHUFFLE_SIZE, reshuffle_each_iteration= True)\n",
        "    data = data.batch(BATCH_SIZE)    \n",
        "    #data = data.repeat(REPEAT_TIMES)\n",
        "\n",
        "\n",
        "    return data"
      ],
      "execution_count": 0,
      "outputs": []
    },
    {
      "cell_type": "code",
      "metadata": {
        "id": "wyyEwmin_pDP",
        "colab_type": "code",
        "colab": {}
      },
      "source": [
        "train_data = batch_shuffle_repeat(train_data)\n"
      ],
      "execution_count": 0,
      "outputs": []
    },
    {
      "cell_type": "code",
      "metadata": {
        "id": "Nm-8yNhwytO-",
        "colab_type": "code",
        "colab": {}
      },
      "source": [
        "test_data = test_data.shuffle(SHUFFLE_SIZE).batch(BATCH_SIZE)"
      ],
      "execution_count": 0,
      "outputs": []
    },
    {
      "cell_type": "code",
      "metadata": {
        "id": "nkGjoL-x9Uuc",
        "colab_type": "code",
        "outputId": "bb68f244-2918-4242-8a57-74c457eed600",
        "colab": {
          "base_uri": "https://localhost:8080/",
          "height": 34
        }
      },
      "source": [
        "train_labels.shape"
      ],
      "execution_count": 0,
      "outputs": [
        {
          "output_type": "execute_result",
          "data": {
            "text/plain": [
              "(50000,)"
            ]
          },
          "metadata": {
            "tags": []
          },
          "execution_count": 11
        }
      ]
    },
    {
      "cell_type": "markdown",
      "metadata": {
        "id": "lVOI2YJtjQjA",
        "colab_type": "text"
      },
      "source": [
        "## Training of the CNN Network"
      ]
    },
    {
      "cell_type": "markdown",
      "metadata": {
        "id": "XLETTkGw1YnL",
        "colab_type": "text"
      },
      "source": [
        "**Parameter Settings**\n",
        "\n",
        "**Run 1** -- **Test Accuracy - 65.20%**\n",
        "\n",
        "\n",
        "Padding - Same in all convolution layer\n",
        "\n",
        "\n",
        "**epochs= 3**\n",
        "\n",
        "![](https://drive.google.com/uc?id=1XFUK5JBv9BNq0en2PZgStjm5mXIjVZ-H)\n",
        "\n",
        "\n",
        "---\n",
        "\n",
        "\n",
        "\n",
        "**Run 2** -- **Test Accuracy - 61.39%**\n",
        "\n",
        "\n",
        "Padding - valid in all convolution layer\n",
        "\n",
        "\n",
        "**epochs= 3**\n",
        "\n",
        "![alt text](https://drive.google.com/uc?id=1cF9Q-ZrTj3OJKvOWMKsMcMUuTQu8PojW)\n",
        "\n",
        "\n",
        "---\n",
        "\n",
        "\n",
        "\n",
        "**Run 3** -- **Test Accuracy - 60.58%**\n",
        "\n",
        "\n",
        "Padding - same in all convolution layer\n",
        "\n",
        "\n",
        "**epochs= 3**\n",
        "\n",
        "![alt text](https://drive.google.com/uc?id=1g3D1mT4ekCEFjkFjIfQxGx6Ak3DaP5Lj)\n",
        "\n",
        "\n",
        "---\n",
        "\n",
        "\n",
        "\n",
        "**Run 4** -- **Test Accuracy - 63.67%**\n",
        "\n",
        "\n",
        "Padding - same in all convolution layer\n",
        "\n",
        "\n",
        "**epochs= 3**\n",
        "\n",
        "![alt text](https://drive.google.com/uc?id=1-przRunHmx2tdlnHgbGgly9SKhr7vugg)\n",
        "\n",
        "\n",
        "---\n",
        "\n",
        "\n",
        "\n",
        "**Run 5** -- **Test Accuracy - 72.03%**\n",
        "\n",
        "\n",
        "Padding - same in all convolution layer\n",
        "\n",
        "\n",
        "**epochs= 3**\n",
        "\n",
        "![alt text](https://drive.google.com/uc?id=184ub9cn6CSRqUetPOrHf0Q5lgf5MefRa)\n",
        "\n",
        "\n",
        "---\n",
        "\n",
        "\n",
        "\n",
        "**Run 6** -- **Test Accuracy - 78.26%**\n",
        "\n",
        "\n",
        "Padding - same in all convolution layer\n",
        "\n",
        "\n",
        "**Parameters same as run5 | epoch - 50**\n",
        "\n",
        "\n",
        "---\n",
        "\n",
        "\n",
        "\n",
        "**Run 7** -- **Test Accuracy - 78.64%**\n",
        "\n",
        "\n",
        "Padding - same in all convolution layer\n",
        "\n",
        "\n",
        "**Parameters same as run5 | epoch - 100**\n",
        "\n",
        "\n",
        "---\n",
        "\n",
        "\n",
        "\n",
        "**Run 8** -- **Test Accuracy - 84.03%**\n",
        "\n",
        "\n",
        "Padding - same in all convolution layer and dropout(0.25) after every pooling layer\n",
        "\n",
        "\n",
        "**Parameters same as run5 | epoch - 100**\n",
        "\n",
        "\n",
        "---\n",
        "\n",
        "\n",
        "\n",
        "**Run 9** -- **Test Accuracy - 85.26%**\n",
        "\n",
        "\n",
        "Padding - same in all convolution layer and dropout after every pooling layer\n",
        "**epoch - 100**\n",
        "\n",
        "![alt text](https://drive.google.com/uc?id=1hd_u7o6Io6y6r5aary9f-fAll-Q5_Q8Q)\n",
        "\n",
        "\n",
        "---\n",
        "\n",
        "\n",
        "**Run 10** -- **Test Accuracy - 85.79%**\n",
        "\n",
        "\n",
        "Padding - same in all convolution layer and dropout after every pool layer\n",
        "\n",
        "**Parameters same as run9 | epoch - 150**\n",
        "\n",
        "\n",
        "---\n",
        "\n",
        "\n",
        "**Run 11** -- **Test Accuracy - 84.59%**\n",
        "\n",
        "\n",
        "Padding - same in all layers.. and dropout after every pooling layer and after last FullyConnected layer and before output layer\n",
        "\n",
        "**epoch - 200**\n",
        "\n",
        "![alt text](https://drive.google.com/uc?id=1Ec6q-bSKCr8knxDopu5mdecis2uJ2ZDO)\n",
        "\n",
        "\n",
        "---\n",
        "\n",
        "\n",
        "**Run 12** -- **Test Accuracy - 85.67%**\n",
        "\n",
        "\n",
        "Padding - same in all convolution layer and dropout after every pooling layer\n",
        "\n",
        "**Parameters same as run9 |  epoch - 200**\n",
        "\n",
        "\n",
        "---\n",
        "\n",
        "\n",
        "**Run 13** -- **Test Accuracy - 85.82%**\n",
        "\n",
        "\n",
        "Padding - same in all convolution layer and dropout after every pooling layer\n",
        "\n",
        "**Parameters same as run9 | epoch - 400**\n",
        "\n",
        "\n",
        "---\n",
        "\n",
        "\n",
        "**Run 14** -- **Test Accuracy - 55.97%**\n",
        "\n",
        "\n",
        "Padding - same in all convolution layer and dropout after every pooling layer\n",
        "\n",
        "\n",
        "**Size of filter used is now 1**\n",
        "\n",
        "**Parameters same as run9 | epoch - 200**\n",
        "\n",
        "\n",
        "---\n",
        "\n",
        "\n",
        "**Run 15** -- **Test Accuracy - 10.00%**\n",
        "\n",
        "\n",
        "Padding - same in all convolution layer and dropout after every pooling layer\n",
        "\n",
        "\n",
        "**Size of filter same as size of input to that layer**\n",
        "\n",
        "**Parameters same as run9 | epoch - 200**\n",
        "\n",
        "---\n",
        "\n"
      ]
    },
    {
      "cell_type": "code",
      "metadata": {
        "id": "Cg1sUAcfjqhc",
        "colab_type": "code",
        "colab": {}
      },
      "source": [
        "layers_config = [\n",
        "          tf.keras.layers.Conv2D(32,3,padding='same',activation='relu',\n",
        "                                 input_shape=(32,32,3),\n",
        "                                 kernel_initializer = tf.keras.initializers.RandomUniform(minval=-0.1, maxval=0.1, seed=None),\n",
        "                                 use_bias = True,bias_initializer='zeros'),\n",
        "          tf.keras.layers.Conv2D(32,3,padding='same',activation='relu',\n",
        "                                 kernel_initializer = tf.keras.initializers.RandomUniform(minval=-0.1, maxval=0.1, seed=None),\n",
        "                                 use_bias = True,bias_initializer='zeros'),\n",
        "          tf.keras.layers.MaxPool2D((2,2)),\n",
        "          tf.keras.layers.Dropout(0.2),\n",
        "\n",
        "          tf.keras.layers.Conv2D(64,3,padding='same',activation='relu',\n",
        "                                 kernel_initializer = tf.keras.initializers.RandomUniform(minval=-0.1, maxval=0.1, seed=None),\n",
        "                                 use_bias = True,bias_initializer='zeros'),\n",
        "          tf.keras.layers.Conv2D(64,3,padding='same',activation='relu',\n",
        "                                 kernel_initializer = tf.keras.initializers.RandomUniform(minval=-0.1, maxval=0.1, seed=None),\n",
        "                                 use_bias = True,bias_initializer='zeros'),\n",
        "          tf.keras.layers.MaxPool2D((2,2)),\n",
        "          tf.keras.layers.Dropout(0.3),\n",
        "\n",
        "          tf.keras.layers.Conv2D(128,3,padding='same',activation='relu',\n",
        "                                 kernel_initializer = tf.keras.initializers.RandomUniform(minval=-0.1, maxval=0.1, seed=None),\n",
        "                                 use_bias = True,bias_initializer='zeros'),\n",
        "          tf.keras.layers.Conv2D(128,3,padding='same',activation='relu',\n",
        "                                 kernel_initializer = tf.keras.initializers.RandomUniform(minval=-0.1, maxval=0.1, seed=None),\n",
        "                                 use_bias = True,bias_initializer='zeros'),\n",
        "          tf.keras.layers.MaxPool2D((2,2)),\n",
        "          tf.keras.layers.Dropout(0.4),\n",
        "\n",
        "          tf.keras.layers.Conv2D(256,3,padding='same',activation='relu',\n",
        "                                 kernel_initializer = tf.keras.initializers.RandomUniform(minval=-0.1, maxval=0.1, seed=None),\n",
        "                                 use_bias = True,bias_initializer='zeros'),\n",
        "          tf.keras.layers.MaxPool2D((2,2)),\n",
        "          tf.keras.layers.Dropout(0.25),\n",
        "\n",
        "          tf.keras.layers.Flatten(),\n",
        "          tf.keras.layers.Dense(128,activation='relu'),\n",
        "          #tf.keras.layers.Dropout(0.25),\n",
        "\n",
        "          tf.keras.layers.Dense(256,activation='relu'),\n",
        "          tf.keras.layers.Dense(512,activation='relu'),\n",
        "          #tf.keras.layers.Dense(1024,activation='relu'),\n",
        "          tf.keras.layers.Dense(10)\n",
        "\n",
        "]"
      ],
      "execution_count": 0,
      "outputs": []
    },
    {
      "cell_type": "code",
      "metadata": {
        "id": "KDPaF7LCi9sM",
        "colab_type": "code",
        "colab": {}
      },
      "source": [
        "## Define the model\n",
        "model = tf.keras.Sequential(layers_config)\n"
      ],
      "execution_count": 0,
      "outputs": []
    },
    {
      "cell_type": "code",
      "metadata": {
        "id": "vrwjDyq2s91_",
        "colab_type": "code",
        "outputId": "cae06416-bd1e-42f6-dc16-935512fe436f",
        "colab": {
          "base_uri": "https://localhost:8080/",
          "height": 823
        }
      },
      "source": [
        "## Get the summary of the model\n",
        "model.summary()"
      ],
      "execution_count": 0,
      "outputs": [
        {
          "output_type": "stream",
          "text": [
            "Model: \"sequential_3\"\n",
            "_________________________________________________________________\n",
            "Layer (type)                 Output Shape              Param #   \n",
            "=================================================================\n",
            "conv2d_21 (Conv2D)           (None, 32, 32, 32)        896       \n",
            "_________________________________________________________________\n",
            "conv2d_22 (Conv2D)           (None, 32, 32, 32)        9248      \n",
            "_________________________________________________________________\n",
            "max_pooling2d_12 (MaxPooling (None, 16, 16, 32)        0         \n",
            "_________________________________________________________________\n",
            "dropout_12 (Dropout)         (None, 16, 16, 32)        0         \n",
            "_________________________________________________________________\n",
            "conv2d_23 (Conv2D)           (None, 16, 16, 64)        18496     \n",
            "_________________________________________________________________\n",
            "conv2d_24 (Conv2D)           (None, 16, 16, 64)        36928     \n",
            "_________________________________________________________________\n",
            "max_pooling2d_13 (MaxPooling (None, 8, 8, 64)          0         \n",
            "_________________________________________________________________\n",
            "dropout_13 (Dropout)         (None, 8, 8, 64)          0         \n",
            "_________________________________________________________________\n",
            "conv2d_25 (Conv2D)           (None, 8, 8, 128)         73856     \n",
            "_________________________________________________________________\n",
            "conv2d_26 (Conv2D)           (None, 8, 8, 128)         147584    \n",
            "_________________________________________________________________\n",
            "max_pooling2d_14 (MaxPooling (None, 4, 4, 128)         0         \n",
            "_________________________________________________________________\n",
            "dropout_14 (Dropout)         (None, 4, 4, 128)         0         \n",
            "_________________________________________________________________\n",
            "conv2d_27 (Conv2D)           (None, 4, 4, 256)         295168    \n",
            "_________________________________________________________________\n",
            "max_pooling2d_15 (MaxPooling (None, 2, 2, 256)         0         \n",
            "_________________________________________________________________\n",
            "dropout_15 (Dropout)         (None, 2, 2, 256)         0         \n",
            "_________________________________________________________________\n",
            "flatten_3 (Flatten)          (None, 1024)              0         \n",
            "_________________________________________________________________\n",
            "dense_12 (Dense)             (None, 128)               131200    \n",
            "_________________________________________________________________\n",
            "dense_13 (Dense)             (None, 256)               33024     \n",
            "_________________________________________________________________\n",
            "dense_14 (Dense)             (None, 512)               131584    \n",
            "_________________________________________________________________\n",
            "dense_15 (Dense)             (None, 10)                5130      \n",
            "=================================================================\n",
            "Total params: 883,114\n",
            "Trainable params: 883,114\n",
            "Non-trainable params: 0\n",
            "_________________________________________________________________\n"
          ],
          "name": "stdout"
        }
      ]
    },
    {
      "cell_type": "code",
      "metadata": {
        "id": "T49gkGxftRrf",
        "colab_type": "code",
        "colab": {}
      },
      "source": [
        "## Define the optimizers and the losses\n",
        "\n",
        "## Optimizer defined\n",
        "opt = tf.keras.optimizers.Adam(0.001)\n",
        "\n",
        "\n",
        "## Loss function defined..  \n",
        "loss_fn = tf.keras.losses.SparseCategoricalCrossentropy(from_logits=True)\n",
        "\n",
        "## Train accuracy metric\n",
        "train_acc_metric = tf.keras.metrics.SparseCategoricalAccuracy()\n",
        "## Test Accuracy metric\n",
        "test_acc_metric = tf.keras.metrics.SparseCategoricalAccuracy()\n"
      ],
      "execution_count": 0,
      "outputs": []
    },
    {
      "cell_type": "code",
      "metadata": {
        "id": "ouzj8I0RuSM2",
        "colab_type": "code",
        "colab": {}
      },
      "source": [
        "steps = 0\n",
        "\n",
        "epochs = 100\n",
        "for epoch in range(epochs):\n",
        "  print('Start of epoch %d' % (epoch,))\n",
        "\n",
        "  for img_batch,lbl_batch in train_data:\n",
        "      steps = steps+1\n",
        "      #img_batch, lbl_batch = mnist_data.next_batch()\n",
        "      with tf.GradientTape(persistent=True) as tape:\n",
        "          logits = model(img_batch, training=True)  # Logits for this minibatch\n",
        "\n",
        "          # Compute the loss value for this minibatch.\n",
        "          loss_value = loss_fn(lbl_batch, logits)\n",
        "\n",
        "      # Use the gradient tape to automatically retrieve\n",
        "      # the gradients of the trainable variables with respect to the loss.\n",
        "      grads = tape.gradient(loss_value, model.trainable_weights)\n",
        "\n",
        "      # Run one step of gradient descent by updating\n",
        "      # the value of the variables to minimize the loss.\n",
        "      opt.apply_gradients(zip(grads, model.trainable_weights))\n",
        "\n",
        "      train_acc_metric(lbl_batch, logits)\n",
        "      \n",
        "      if not steps % 100:\n",
        "          # this is different from before. there, we only evaluated accuracy\n",
        "          # for one batch. Now, we always average over 100 batches\n",
        "          print(\"Loss: {} Accuracy: {}\".format(loss_value, train_acc_metric.result()))\n",
        "          train_acc_metric.reset_states()\n"
      ],
      "execution_count": 0,
      "outputs": []
    },
    {
      "cell_type": "code",
      "metadata": {
        "id": "I0i2FudJyoaC",
        "colab_type": "code",
        "outputId": "cf216bae-8f36-459d-8ac5-4008a7e1117b",
        "colab": {
          "base_uri": "https://localhost:8080/",
          "height": 34
        }
      },
      "source": [
        "# this is very convenient -- before, we usually had code that\n",
        "# evaluates the whole test set at once -- this won't work for\n",
        "# large datasets/models. With metrics, we can just iterate\n",
        "# over the data and the metric takes care of averaging etc.\n",
        "\n",
        "test_acc_metric = tf.keras.metrics.SparseCategoricalAccuracy()\n",
        "for img_batch, lbl_batch in test_data:\n",
        "    test_acc_metric(lbl_batch, model(img_batch))\n",
        "print(\"Test acc: {}\".format(test_acc_metric.result()))"
      ],
      "execution_count": 0,
      "outputs": [
        {
          "output_type": "stream",
          "text": [
            "Test acc: 0.8348000049591064\n"
          ],
          "name": "stdout"
        }
      ]
    },
    {
      "cell_type": "markdown",
      "metadata": {
        "id": "4isjRVVm610s",
        "colab_type": "text"
      },
      "source": [
        "### **Visualize filters**\n",
        "\n",
        "Visualizing the 3 channels of first 6 filters\n",
        "\n",
        "**Note:** For the “viridis” colour map we selected, yellow represents a value of 1 and dark blue a value of 0.\n",
        "\n",
        "*Ref from:* https://machinelearningmastery.com/how-to-visualize-filters-and-feature-maps-in-convolutional-neural-networks/"
      ]
    },
    {
      "cell_type": "code",
      "metadata": {
        "id": "ZCGMk7XX5jnh",
        "colab_type": "code",
        "outputId": "73157e7d-5775-4bff-94f3-a5907303ef07",
        "colab": {
          "base_uri": "https://localhost:8080/",
          "height": 1000
        }
      },
      "source": [
        "number = 1\n",
        "for layer in model.layers:\n",
        "    # check for convolutional layer\n",
        "    if 'conv' not in layer.name:\n",
        "      continue\n",
        "    # get filter weights\n",
        "    filters, biases = layer.get_weights()\n",
        "    #print(layer.name, filters.shape)\n",
        "\n",
        "    print(\"Visualizing filters for Filter number \", number)\n",
        "\n",
        "    number = number+1\n",
        "    # normalize filter values to 0-1 so we can visualize them\n",
        "    f_min, f_max = filters.min(), filters.max()\n",
        "    filters = (filters - f_min) / (f_max - f_min)\n",
        "\n",
        "    # plot first few filters\n",
        "    n_filters, ix = 6, 1\n",
        "    _, ax = plt.subplots(n_filters, 3, figsize=(10, 8))\n",
        "\n",
        "    for i in range(n_filters):\n",
        "      # get the filter\n",
        "      f = filters[:, :, :, i]\n",
        "      # plot each channel separately\n",
        "      for j in range(3):\n",
        "        # specify subplot and turn of axis\n",
        "        ax = plt.subplot(n_filters, 3, ix)\n",
        "        ax.set_xticks([])\n",
        "        ax.set_yticks([])\n",
        "        # plot filter channel in grayscale\n",
        "        plt.imshow(f[:, :, j], cmap=\"viridis\")\n",
        "        ix += 1\n",
        "    # show the figure\n",
        "    plt.tight_layout()\n",
        "    plt.show()"
      ],
      "execution_count": 0,
      "outputs": [
        {
          "output_type": "stream",
          "text": [
            "Visualizing filters for Filter number  1\n"
          ],
          "name": "stdout"
        },
        {
          "output_type": "display_data",
          "data": {
            "image/png": "[encoded data removed]",
            "text/plain": [
              "<Figure size 720x576 with 18 Axes>"
            ]
          },
          "metadata": {
            "tags": []
          }
        },
        {
          "output_type": "stream",
          "text": [
            "Visualizing filters for Filter number  2\n"
          ],
          "name": "stdout"
        },
        {
          "output_type": "display_data",
          "data": {
            "image/png": "[encoded data removed]",
            "text/plain": [
              "<Figure size 720x576 with 18 Axes>"
            ]
          },
          "metadata": {
            "tags": []
          }
        },
        {
          "output_type": "stream",
          "text": [
            "Visualizing filters for Filter number  3\n"
          ],
          "name": "stdout"
        },
        {
          "output_type": "display_data",
          "data": {
            "image/png": "[encoded data removed]",
            "text/plain": [
              "<Figure size 720x576 with 18 Axes>"
            ]
          },
          "metadata": {
            "tags": []
          }
        },
        {
          "output_type": "stream",
          "text": [
            "Visualizing filters for Filter number  4\n"
          ],
          "name": "stdout"
        },
        {
          "output_type": "display_data",
          "data": {
            "image/png": "[encoded data removed]",
            "text/plain": [
              "<Figure size 720x576 with 18 Axes>"
            ]
          },
          "metadata": {
            "tags": []
          }
        },
        {
          "output_type": "stream",
          "text": [
            "Visualizing filters for Filter number  5\n"
          ],
          "name": "stdout"
        },
        {
          "output_type": "display_data",
          "data": {
            "image/png": "[encoded data removed]",
            "text/plain": [
              "<Figure size 720x576 with 18 Axes>"
            ]
          },
          "metadata": {
            "tags": []
          }
        },
        {
          "output_type": "stream",
          "text": [
            "Visualizing filters for Filter number  6\n"
          ],
          "name": "stdout"
        },
        {
          "output_type": "display_data",
          "data": {
            "image/png": "[encoded data removed]",
            "text/plain": [
              "<Figure size 720x576 with 18 Axes>"
            ]
          },
          "metadata": {
            "tags": []
          }
        },
        {
          "output_type": "stream",
          "text": [
            "Visualizing filters for Filter number  7\n"
          ],
          "name": "stdout"
        },
        {
          "output_type": "display_data",
          "data": {
            "image/png": "[encoded data removed]",
            "text/plain": [
              "<Figure size 720x576 with 18 Axes>"
            ]
          },
          "metadata": {
            "tags": []
          }
        }
      ]
    }
  ]
}