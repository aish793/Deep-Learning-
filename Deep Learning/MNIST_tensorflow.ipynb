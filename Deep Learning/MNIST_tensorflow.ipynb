{
  "nbformat": 4,
  "nbformat_minor": 0,
  "metadata": {
    "colab": {
      "name": "MNIST_tensorflow.ipynb",
      "provenance": [],
      "collapsed_sections": [],
      "authorship_tag": "ABX9TyPhOnSTvpwGnsUBYQRNA5yL",
      "include_colab_link": true
    },
    "kernelspec": {
      "name": "python3",
      "display_name": "Python 3"
    }
  },
  "cells": [
    {
      "cell_type": "markdown",
      "metadata": {
        "id": "view-in-github",
        "colab_type": "text"
      },
      "source": [
        "<a href=\"https://colab.research.google.com/github/aish793/Sandbox/blob/master/Deep%20Learning/MNIST_tensorflow.ipynb\" target=\"_parent\"><img src=\"https://colab.research.google.com/assets/colab-badge.svg\" alt=\"Open In Colab\"/></a>"
      ]
    },
    {
      "cell_type": "markdown",
      "metadata": {
        "id": "-ytHc-LasWcB",
        "colab_type": "text"
      },
      "source": [
        "Importing the required libraries"
      ]
    },
    {
      "cell_type": "code",
      "metadata": {
        "id": "gSFHKMubdd8b",
        "colab_type": "code",
        "colab": {}
      },
      "source": [
        "import tensorflow as tf\n",
        "import numpy as np\n",
        "import matplotlib.pyplot as plt\n",
        "import pandas as pd\n"
      ],
      "execution_count": 0,
      "outputs": []
    },
    {
      "cell_type": "markdown",
      "metadata": {
        "id": "4PIH1Rrfs7yQ",
        "colab_type": "text"
      },
      "source": [
        "Load Dataset"
      ]
    },
    {
      "cell_type": "code",
      "metadata": {
        "id": "J3bYCp0pyYw7",
        "colab_type": "code",
        "colab": {}
      },
      "source": [
        "from google.colab import files\n",
        "files.upload()"
      ],
      "execution_count": 0,
      "outputs": []
    },
    {
      "cell_type": "markdown",
      "metadata": {
        "id": "Coi1b6vvyk2-",
        "colab_type": "text"
      },
      "source": [
        "Import Dataset"
      ]
    },
    {
      "cell_type": "code",
      "metadata": {
        "id": "Yfw24b_8s6st",
        "colab_type": "code",
        "outputId": "d1fc3c07-5adb-4613-ef19-474e059c9b10",
        "colab": {
          "base_uri": "https://localhost:8080/",
          "height": 300
        }
      },
      "source": [
        "from datasets import MNISTDataset\n",
        "mnist = tf.keras.datasets.mnist\n",
        "(train_images, train_labels), (test_images, test_labels) = mnist.load_data() # train_images = (60000,28,28) train_labels = (60000,), test_images.shape = (10000,28,28)\n",
        "\n",
        "plt.imshow(train_images[467], cmap=\"Greys_r\")\n",
        "\n",
        "data = MNISTDataset(train_images.reshape([-1, 784]), train_labels, \n",
        "                    test_images.reshape([-1, 784]), test_labels,\n",
        "                    batch_size=128)    # data = datasets.MNISTDataset"
      ],
      "execution_count": 3,
      "outputs": [
        {
          "output_type": "stream",
          "text": [
            "Downloading data from https://storage.googleapis.com/tensorflow/tf-keras-datasets/mnist.npz\n",
            "11493376/11490434 [==============================] - 0s 0us/step\n"
          ],
          "name": "stdout"
        },
        {
          "output_type": "display_data",
          "data": {
            "image/png": "[encoded data removed]",
            "text/plain": [
              "<Figure size 432x288 with 1 Axes>"
            ]
          },
          "metadata": {
            "tags": [],
            "needs_background": "light"
          }
        }
      ]
    },
    {
      "cell_type": "markdown",
      "metadata": {
        "id": "oM_VwyNTy37g",
        "colab_type": "text"
      },
      "source": [
        "Multi Layer Perceptron(MLP)"
      ]
    },
    {
      "cell_type": "code",
      "metadata": {
        "id": "2ZjfWLcuuX2D",
        "colab_type": "code",
        "colab": {}
      },
      "source": [
        "#Hyperparameters\n",
        "train_steps = 1000\n",
        "learning_rate = 0.1\n",
        "input_neurons = 784\n",
        "layer1_neurons = 512\n",
        "output_neurons = 10 "
      ],
      "execution_count": 0,
      "outputs": []
    },
    {
      "cell_type": "code",
      "metadata": {
        "id": "mEZdTMe7EhP6",
        "colab_type": "code",
        "colab": {}
      },
      "source": [
        "# layer1\n",
        "W1 = tf.Variable(tf.random.uniform([input_neurons,layer1_neurons], minval=-0.1, maxval=0.1, dtype=tf.dtypes.float32))\n",
        "b1 = tf.Variable(np.zeros(layer1_neurons, dtype=np.float32))\n",
        "\n",
        "#output layer\n",
        "W2 = tf.Variable(tf.random.uniform([layer1_neurons,output_neurons], minval=-0.1, maxval=0.1, dtype=tf.dtypes.float32))\n",
        "b2 = tf.Variable(np.zeros(output_neurons, dtype=np.float32))"
      ],
      "execution_count": 0,
      "outputs": []
    },
    {
      "cell_type": "code",
      "metadata": {
        "id": "Wvt3_jmGHwDW",
        "colab_type": "code",
        "outputId": "2e54d1fa-79dc-42ed-fbb3-9d1415acf7cf",
        "colab": {
          "base_uri": "https://localhost:8080/",
          "height": 225
        }
      },
      "source": [
        "def cal_logits(x):\n",
        "  h1 = tf.nn.sigmoid(tf.matmul(x, W1) + b1) # layer1\n",
        "  o1= tf.matmul(h1, W2) + b2 # output layer\n",
        "  return o1\n",
        "\n",
        "for step in range(train_steps):\n",
        "  img_batch, lbl_batch = data.next_batch() #img_batch = (128,784), lbl_batch = (128,)\n",
        "  with tf.GradientTape(persistent=True) as tape:#computes the gradient w.r.t input variables\n",
        "     logits = cal_logits(img_batch)\n",
        "     xent = tf.reduce_mean(tf.nn.sparse_softmax_cross_entropy_with_logits(\n",
        "            logits=logits, labels=lbl_batch))\n",
        "  grads = tape.gradient(xent, [W1, b1, W2, b2])\n",
        "\n",
        "  W1.assign_sub(learning_rate * grads[0])\n",
        "  b1.assign_sub(learning_rate * grads[1])\n",
        "\n",
        "  W2.assign_sub(learning_rate * grads[2])\n",
        "  b2.assign_sub(learning_rate * grads[3])\n",
        "\n",
        "  if not step % 100:\n",
        "      preds = tf.argmax(logits, axis=1, output_type=tf.int32)\n",
        "      acc = tf.reduce_mean(tf.cast(tf.equal(preds, lbl_batch),\n",
        "                             tf.float32))\n",
        "      print(\"Loss: {} Accuracy: {}\".format(xent, acc))\n"
      ],
      "execution_count": 18,
      "outputs": [
        {
          "output_type": "stream",
          "text": [
            "Loss: 2.5309672355651855 Accuracy: 0.0703125\n",
            "Loss: 1.1334214210510254 Accuracy: 0.7578125\n",
            "Loss: 0.7879695892333984 Accuracy: 0.796875\n",
            "Starting new epoch...\n",
            "Loss: 0.621806263923645 Accuracy: 0.84375\n",
            "Loss: 0.4959004521369934 Accuracy: 0.8671875\n",
            "Loss: 0.4744044542312622 Accuracy: 0.8671875\n",
            "Loss: 0.35258522629737854 Accuracy: 0.8984375\n",
            "Loss: 0.3617587983608246 Accuracy: 0.8984375\n",
            "Starting new epoch...\n",
            "Loss: 0.31398069858551025 Accuracy: 0.921875\n",
            "Loss: 0.458537220954895 Accuracy: 0.8515625\n"
          ],
          "name": "stdout"
        }
      ]
    },
    {
      "cell_type": "markdown",
      "metadata": {
        "id": "X6LGDykXxbmR",
        "colab_type": "text"
      },
      "source": [
        "Testing the network"
      ]
    },
    {
      "cell_type": "code",
      "metadata": {
        "id": "uFQFSAYCmyq0",
        "colab_type": "code",
        "colab": {
          "base_uri": "https://localhost:8080/",
          "height": 35
        },
        "outputId": "5c9d8542-ff9a-483a-966c-a166e661e49b"
      },
      "source": [
        "test_pred_h1 = tf.nn.relu(tf.matmul(data.test_data, W1) + b1)  \n",
        "test_preds = tf.argmax(tf.matmul(test_pred_h1, W2) + b2, axis=1,\n",
        "                       output_type=tf.int32)\n",
        "test_acc = tf.reduce_mean(tf.cast(tf.equal(test_preds, data.test_labels),\n",
        "                             tf.float64))\n",
        "\n",
        "print(\"Accuracy: {}\".format(test_acc))"
      ],
      "execution_count": 19,
      "outputs": [
        {
          "output_type": "stream",
          "text": [
            "Accuracy: 0.8449\n"
          ],
          "name": "stdout"
        }
      ]
    },
    {
      "cell_type": "markdown",
      "metadata": {
        "id": "nP7ZxFiJaPeh",
        "colab_type": "text"
      },
      "source": [
        "Observations:\n",
        "\n",
        "Hidden layers - 1 | No of neurons in hidden layers - 512 | Activation Function - RelU, Softmax | Acc(Tr,Test) = 93.75,94.27\n",
        "\n",
        "Hidden layers - 1 | No of neurons in hidden layers - 112 | Activation Function - RelU, Softmax | Acc(Tr,Test) = 95.31,93.15\n",
        "\n",
        "\n",
        "Hidden layers - 1 | No of neurons in hidden layers - 16 | Activation Function - RelU, Softmax | Acc(Tr,Test) = 94.53,91.71\n",
        "\n",
        "\n",
        "Hidden layers - 1 | No of neurons in hidden layers - 512 | Activation Function - Tanh, Softmax | Acc(Tr,Test) = 93.75 , 85.56\n",
        "\n",
        "Hidden layers - 1 | No of neurons in hidden layers - 512 | Activation Function - Sigmoid, Softmax | Acc(Tr,Test) = 85.15, 84.49"
      ]
    }
  ]
}